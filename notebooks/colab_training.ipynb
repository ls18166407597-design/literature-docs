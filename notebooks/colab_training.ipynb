{
  "nbformat": 4,
  "nbformat_minor": 0,
  "metadata": {
    "colab": {
      "provenance": [],
      "gpuType": "T4"
    },
    "kernelspec": {
      "name": "python3",
      "display_name": "Python 3"
    },
    "language_info": {
      "name": "python"
    }
  },
  "cells": [
    {
      "cell_type": "markdown",
      "metadata": {"id": "header"},
      "source": [
        "# 文献检索系统模型训练\n",
        "\n",
        "本笔记本自动从GitHub加载文档，无需手动上传。\n",
        "\n",
        "## 功能特点\n",
        "- 自动从GitHub克隆文档\n",
        "- 使用免费GPU加速训练\n",
        "- 支持PDF、DOCX、TXT、MD格式\n",
        "- 训练完成后自动保存"
      ]
    },
    {
      "cell_type": "markdown",
      "metadata": {"id": "clone_repo"},
      "source": [
        "## 1. 克隆GitHub仓库"
      ]
    },
    {
      "cell_type": "code",
      "execution_count": null,
      "metadata": {"id": "clone_repo_code"},
      "outputs": [],
      "source": [
        "# 克隆您的GitHub仓库\n",
        "!git clone https://github.com/YOUR_USERNAME/literature-docs.git\n",
        "!cd literature-docs\n",
        "\n",
        "# 查看文档\n",
        "import os\n",
        "if os.path.exists('literature-docs/documents'):\n",
        "    files = os.listdir('literature-docs/documents')\n",
        "    print(f\"找到 {{len(files)}} 个文档:\")\n",
        "    for file in files:\n",
        "        print(f\"  - {{file}}\")\n",
        "else:\n",
        "    print("没有找到文档目录")"
      ]
    },
    {
      "cell_type": "markdown",
      "metadata": {"id": "install_packages"},
      "source": [
        "## 2. 安装依赖包"
      ]
    },
    {
      "cell_type": "code",
      "execution_count": null,
      "metadata": {"id": "install_packages_code"},
      "outputs": [],
      "source": [
        "# 安装必要的包\n",
        "!pip install torch transformers sentence-transformers faiss-cpu numpy pandas scikit-learn python-docx PyPDF2 beautifulsoup4 tqdm datasets accelerate evaluate\n",
        "\n",
        "# 检查GPU是否可用\n",
        "import torch\n",
        "print(f\"CUDA可用: {{torch.cuda.is_available()}}\")\n",
        "if torch.cuda.is_available():\n",
        "    print(f\"GPU设备: {{torch.cuda.get_device_name(0)}}\")\n",
        "    print(f\"GPU内存: {{torch.cuda.get_device_properties(0).total_memory / 1024**3:.1f}} GB")"
      ]
    },
    {
      "cell_type": "markdown",
      "metadata": {"id": "load_documents"},
      "source": [
        "## 3. 加载文档"
      ]
    },
    {
      "cell_type": "code",
      "execution_count": null,
      "metadata": {"id": "load_documents_code"},
      "outputs": [],
      "source": [
        "import os\n",
        "from pathlib import Path\n",
        "\n",
        "# 设置文档路径\n",
        "DOCS_PATH = 'literature-docs/documents'\n",
        "MODELS_PATH = 'literature-docs/models'\n",
        "DATA_PATH = 'literature-docs/data'\n",
        "\n",
        "# 创建必要的目录\n",
        "os.makedirs(MODELS_PATH, exist_ok=True)\n",
        "os.makedirs(DATA_PATH, exist_ok=True)\n",
        "\n",
        "# 获取文档列表\n",
        "if os.path.exists(DOCS_PATH):\n",
        "    doc_files = []\n",
        "    for file in os.listdir(DOCS_PATH):\n",
        "        file_path = os.path.join(DOCS_PATH, file)\n",
        "        if os.path.isfile(file_path):\n",
        "            doc_files.append(file_path)\n",
        "    \n",
        "    print(f\"找到 {{len(doc_files)}} 个文档:\")\n",
        "    for file_path in doc_files:\n",
        "        print(f\"  - {{os.path.basename(file_path)}}\")\n",
        "else:\n",
        "    print("没有找到文档文件")\n",
        "    doc_files = []"
      ]
    },
    {
      "cell_type": "markdown",
      "metadata": {"id": "train_model"},
      "source": [
        "## 4. 开始训练"
      ]
    },
    {
      "cell_type": "code",
      "execution_count": null,
      "metadata": {"id": "train_model_code"},
      "outputs": [],
      "source": [
        "# 这里可以添加完整的训练代码\n",
        "print("准备开始训练...")\n",
        "print(f\"文档数量: {{len(doc_files)}}\")\n",
        "print(f\"模型保存路径: {{MODELS_PATH}}")\n",
        "print("\n开始训练模型...")"
      ]
    }
  ]
}